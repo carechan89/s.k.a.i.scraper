{
  "nbformat": 4,
  "nbformat_minor": 0,
  "metadata": {
    "colab": {
      "name": "e-commerce tutorial.ipynb",
      "provenance": [],
      "collapsed_sections": [],
      "authorship_tag": "ABX9TyO18kVXrzSh2R7s+QeTeS6x",
      "include_colab_link": true
    },
    "kernelspec": {
      "name": "python3",
      "display_name": "Python 3"
    }
  },
  "cells": [
    {
      "cell_type": "markdown",
      "metadata": {
        "id": "view-in-github",
        "colab_type": "text"
      },
      "source": [
        "<a href=\"https://colab.research.google.com/github/carechan89/s.k.a.i.scraper/blob/main/skaiscraper.ipynb\" target=\"_parent\"><img src=\"https://colab.research.google.com/assets/colab-badge.svg\" alt=\"Open In Colab\"/></a>"
      ]
    },
    {
      "cell_type": "code",
      "metadata": {
        "id": "8FF4zNsIjZS0"
      },
      "source": [
        "# tutorial from https://www.youtube.com/watch?v=skYpvJCrRAQ&feature=emb_logo"
      ],
      "execution_count": null,
      "outputs": []
    },
    {
      "cell_type": "code",
      "metadata": {
        "id": "3tSNH6-Zwk5t"
      },
      "source": [
        "! pip install requests"
      ],
      "execution_count": null,
      "outputs": []
    },
    {
      "cell_type": "code",
      "metadata": {
        "id": "8mS3f54GjaeP"
      },
      "source": [
        "import requests\r\n",
        "from bs4 import BeautifulSoup\r\n",
        "import smtplib\r\n",
        "import re\r\n",
        "import json"
      ],
      "execution_count": null,
      "outputs": []
    },
    {
      "cell_type": "code",
      "metadata": {
        "id": "vF7XyMgQj2Q2"
      },
      "source": [
        "URL=\"https://www.musicplaza.com/collections/k-pop/products/%EC%83%A4%EC%9D%B4%EB%8B%88-shinee-7th-album-don-t-call-me-photobook-ver-cd-poster\""
      ],
      "execution_count": null,
      "outputs": []
    },
    {
      "cell_type": "code",
      "metadata": {
        "id": "ei5swmwAkJ9j"
      },
      "source": [
        "headers={\"user-agent\":\"Mozilla/5.0 (Windows NT 10.0; Win64; x64) AppleWebKit/537.36 (KHTML, like Gecko) Chrome/88.0.4324.182 Safari/537.36\"}"
      ],
      "execution_count": null,
      "outputs": []
    },
    {
      "cell_type": "code",
      "metadata": {
        "id": "kgYRjfcZkcrh"
      },
      "source": [
        "page=requests.get(URL,headers=headers)"
      ],
      "execution_count": null,
      "outputs": []
    },
    {
      "cell_type": "code",
      "metadata": {
        "id": "R4K3lCO7kmqp"
      },
      "source": [
        "soup=BeautifulSoup(page.content, 'html.parser')"
      ],
      "execution_count": null,
      "outputs": []
    },
    {
      "cell_type": "code",
      "metadata": {
        "id": "u4WC-WVnksYR"
      },
      "source": [
        "# TODO: instead of hardcoding, loop through and use regex to find just the top part that we need\r\n",
        "\r\n",
        "# print everything\r\n",
        "# print(soup.prettify)\r\n",
        "\r\n",
        "# find the BoosterPoParams var and get the pertaining info\r\n",
        "data = soup.find_all('script')[55].string\r\n",
        "stripped = data.split(';', 1)[0]\r\n",
        "stripped = stripped.split('= ', 1)[1]\r\n",
        "# print(stripped)"
      ],
      "execution_count": null,
      "outputs": []
    },
    {
      "cell_type": "code",
      "metadata": {
        "id": "Tk07defZktyC"
      },
      "source": [
        "jsonified = json.loads(stripped)\r\n",
        "# print(jsonified['product']['title'])\r\n",
        "# get name of item\r\n",
        "name = jsonified['product']['title'].rsplit('|', 1)[1]\r\n",
        "artist = jsonified['product']['title'].split('|',1)[0]\r\n",
        "print(name, '\\n', artist)"
      ],
      "execution_count": null,
      "outputs": []
    },
    {
      "cell_type": "code",
      "metadata": {
        "id": "F_E8cG0AusTU"
      },
      "source": [
        ""
      ],
      "execution_count": null,
      "outputs": []
    }
  ]
}